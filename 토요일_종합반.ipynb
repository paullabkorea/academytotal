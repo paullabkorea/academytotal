{
  "nbformat": 4,
  "nbformat_minor": 0,
  "metadata": {
    "colab": {
      "provenance": [],
      "collapsed_sections": []
    },
    "kernelspec": {
      "name": "python3",
      "display_name": "Python 3"
    },
    "language_info": {
      "name": "python"
    }
  },
  "cells": [
    {
      "cell_type": "code",
      "execution_count": null,
      "metadata": {
        "colab": {
          "base_uri": "https://localhost:8080/"
        },
        "id": "KnKzDoVTMZiv",
        "outputId": "2671c128-d6dc-4990-c232-672db4b4ae09"
      },
      "outputs": [
        {
          "output_type": "stream",
          "name": "stdout",
          "text": [
            "10\n"
          ]
        }
      ],
      "source": [
        "x = 3\n",
        "y = 7\n",
        "\n",
        "print(x + y)"
      ]
    },
    {
      "cell_type": "code",
      "source": [
        "a = 10 # int(정수)\n",
        "b = 10.1 # float(실수)\n",
        "c = -10 # int(정수)\n",
        "d = True # boolean(논리)\n",
        "e = False\n",
        "f = 'lee' # string(문자열)\n",
        "g = 'hojun'\n",
        "h = '10'\n",
        "i = [10, 20, 30] # list\n",
        "j = {10, 20, 30, 30} # set\n",
        "k = {'one':'10', 'two':'20'} #dictionary\n",
        "l = (10, 20, 30, 40) #tuple"
      ],
      "metadata": {
        "id": "dIrNQJB-OZst"
      },
      "execution_count": null,
      "outputs": []
    },
    {
      "cell_type": "code",
      "source": [
        "a + a"
      ],
      "metadata": {
        "colab": {
          "base_uri": "https://localhost:8080/"
        },
        "id": "CWzYbFPSQI9V",
        "outputId": "6ea8840e-dcb5-4c8f-a7ed-28c20060e986"
      },
      "execution_count": null,
      "outputs": [
        {
          "output_type": "execute_result",
          "data": {
            "text/plain": [
              "20"
            ]
          },
          "metadata": {},
          "execution_count": 8
        }
      ]
    },
    {
      "cell_type": "code",
      "source": [
        "print(type(a))\n",
        "print(dir(a))"
      ],
      "metadata": {
        "colab": {
          "base_uri": "https://localhost:8080/"
        },
        "id": "6lf38nGQRIo9",
        "outputId": "d6ffaf23-66dd-4146-a763-86c41b60b1f6"
      },
      "execution_count": null,
      "outputs": [
        {
          "output_type": "execute_result",
          "data": {
            "text/plain": [
              "int"
            ]
          },
          "metadata": {},
          "execution_count": 10
        }
      ]
    },
    {
      "cell_type": "code",
      "source": [
        "# 사칙연산\n",
        "a = 10\n",
        "b = 3\n",
        "print(a + b)\n",
        "print(a - b)\n",
        "print(a / b)\n",
        "print(a // b)\n",
        "print(a * b)\n",
        "print(a ** b)\n",
        "print(a % b)"
      ],
      "metadata": {
        "colab": {
          "base_uri": "https://localhost:8080/"
        },
        "id": "NosqZP5mQm1M",
        "outputId": "9c22c16a-5c31-4f11-baf9-f404ec0edd08"
      },
      "execution_count": null,
      "outputs": [
        {
          "output_type": "stream",
          "name": "stdout",
          "text": [
            "13\n",
            "7\n",
            "3.3333333333333335\n",
            "3\n",
            "30\n",
            "1000\n",
            "1\n"
          ]
        }
      ]
    },
    {
      "cell_type": "code",
      "source": [
        "# 비교연산\n",
        "a = 10\n",
        "b = 3\n",
        "print(a == b)\n",
        "print(a != b)\n",
        "print(a >= b)\n",
        "print(a <= b)\n",
        "print(a > b)\n",
        "print(a < b)"
      ],
      "metadata": {
        "colab": {
          "base_uri": "https://localhost:8080/"
        },
        "id": "PkC8LhCsSD8b",
        "outputId": "763b1b6f-60f5-4b07-c76f-de443e577ab3"
      },
      "execution_count": null,
      "outputs": [
        {
          "output_type": "stream",
          "name": "stdout",
          "text": [
            "False\n",
            "True\n",
            "True\n",
            "False\n",
            "True\n",
            "False\n"
          ]
        }
      ]
    },
    {
      "cell_type": "code",
      "source": [
        "# 논리연산\n",
        "a = True # 1\n",
        "b = False # 0\n",
        "print(a and b) # 곱\n",
        "print(a or b) # 합\n",
        "print(not a)\n",
        "\n",
        "s = 0\n",
        "for i in range(1000):\n",
        "    if i % 3 == 0 or i % 5 == 0:\n",
        "        # print(i)\n",
        "        s = s + i\n",
        "s"
      ],
      "metadata": {
        "colab": {
          "base_uri": "https://localhost:8080/"
        },
        "id": "Z2ijJ4tZSpKw",
        "outputId": "be33caf3-66db-4ba9-d995-0a9eee16fa0b"
      },
      "execution_count": null,
      "outputs": [
        {
          "output_type": "stream",
          "name": "stdout",
          "text": [
            "False\n",
            "True\n",
            "False\n"
          ]
        },
        {
          "output_type": "execute_result",
          "data": {
            "text/plain": [
              "233168"
            ]
          },
          "metadata": {},
          "execution_count": 14
        }
      ]
    }
  ]
}